{
  "nbformat": 4,
  "nbformat_minor": 0,
  "metadata": {
    "colab": {
      "provenance": [],
      "authorship_tag": "ABX9TyOukE+nrjUAf2QNqGaFUAh7",
      "include_colab_link": true
    },
    "kernelspec": {
      "name": "python3",
      "display_name": "Python 3"
    },
    "language_info": {
      "name": "python"
    }
  },
  "cells": [
    {
      "cell_type": "markdown",
      "metadata": {
        "id": "view-in-github",
        "colab_type": "text"
      },
      "source": [
        "<a href=\"https://colab.research.google.com/github/Shalinina/Data-Structure-Assignments/blob/main/DS_Assignment7.ipynb\" target=\"_parent\"><img src=\"https://colab.research.google.com/assets/colab-badge.svg\" alt=\"Open In Colab\"/></a>"
      ]
    },
    {
      "cell_type": "code",
      "execution_count": 1,
      "metadata": {
        "colab": {
          "base_uri": "https://localhost:8080/"
        },
        "id": "Jhr7gRiMQy6l",
        "outputId": "6f33e2e1-7b70-4034-bb8d-5fb320cb1ed6"
      },
      "outputs": [
        {
          "output_type": "stream",
          "name": "stdout",
          "text": [
            "{<Vertex: A>: None, <Vertex: B>: <Vertex: A>, <Vertex: C>: <Vertex: A>, <Vertex: D>: <Vertex: B>, <Vertex: E>: <Vertex: C>, <Vertex: F>: <Vertex: D>}\n"
          ]
        }
      ],
      "source": [
        "from collections import deque\n",
        "\n",
        "class Vertex:\n",
        "    def __init__(self, label):\n",
        "        self.label = label\n",
        "\n",
        "class Edge:\n",
        "    def __init__(self, start_vertex, end_vertex, weight):\n",
        "        self.start_vertex = start_vertex\n",
        "        self.end_vertex = end_vertex\n",
        "        self.weight = weight\n",
        "\n",
        "class Graph:\n",
        "    def __init__(self, adjacency_map):\n",
        "        self.adjacency_map = adjacency_map\n",
        "\n",
        "def BFS(graph, start_vertex):\n",
        "    visited = {}\n",
        "    queue = deque([start_vertex])\n",
        "    visited[start_vertex.label] = None\n",
        "\n",
        "    while queue:\n",
        "        current_vertex = queue.popleft()\n",
        "        for neighbor in graph.adjacency_map[current_vertex]:\n",
        "            if neighbor.label not in visited:\n",
        "                visited[neighbor.label] = current_vertex.label\n",
        "                queue.append(neighbor)\n",
        "\n",
        "    return visited\n",
        "\n",
        "A = Vertex('A')\n",
        "B = Vertex('B')\n",
        "C = Vertex('C')\n",
        "D = Vertex('D')\n",
        "E = Vertex('E')\n",
        "F = Vertex('F')\n",
        "\n",
        "AB = Edge(A, B, 2)\n",
        "AC = Edge(A, C, 4)\n",
        "BD = Edge(B, D, 5)\n",
        "CD = Edge(C, D, 9)\n",
        "CE = Edge(C, E, 3)\n",
        "DF = Edge(D, F, 2)\n",
        "EF = Edge(E, F, 2)\n",
        "\n",
        "adj_map = {\n",
        "    A: [B, C],\n",
        "    B: [A, D],\n",
        "    C: [A, D, E],\n",
        "    D: [B, C, F],\n",
        "    E: [C, F],\n",
        "    F: [D, E]\n",
        "}\n",
        "g = Graph(adj_map)\n",
        "result = BFS(g, A)\n",
        "\n",
        "result_str = '{'\n",
        "for vertex, parent in result.items():\n",
        "    vertex_repr = f'<Vertex: {vertex}>'\n",
        "    parent_repr = f'<Vertex: {parent}>' if parent else None\n",
        "    result_str += f'{vertex_repr}: {parent_repr}, '\n",
        "\n",
        "\n",
        "if len(result_str) > 1:\n",
        "    result_str = result_str[:-2]\n",
        "\n",
        "result_str += '}'\n",
        "print(result_str)"
      ]
    },
    {
      "cell_type": "code",
      "source": [
        "from collections import deque\n",
        "\n",
        "class Vertex:\n",
        "    def __init__(self, label):\n",
        "        self.label = label\n",
        "\n",
        "class Edge:\n",
        "    def __init__(self, start_vertex, end_vertex, weight):\n",
        "        self.start_vertex = start_vertex\n",
        "        self.end_vertex = end_vertex\n",
        "        self.weight = weight\n",
        "\n",
        "class Graph:\n",
        "    def __init__(self, adjacency_map):\n",
        "        self.adjacency_map = adjacency_map\n",
        "\n",
        "def BFS(graph, start_vertex):\n",
        "    visited = {}\n",
        "    queue = deque([start_vertex])\n",
        "    visited[start_vertex.label] = None\n",
        "\n",
        "    while queue:\n",
        "        current_vertex = queue.popleft()\n",
        "        for neighbor in graph.adjacency_map[current_vertex]:\n",
        "            if neighbor.label not in visited:\n",
        "                visited[neighbor.label] = current_vertex.label\n",
        "                queue.append(neighbor)\n",
        "\n",
        "    return visited\n",
        "\n",
        "A = Vertex('A')\n",
        "B = Vertex('B')\n",
        "C = Vertex('C')\n",
        "D = Vertex('D')\n",
        "E = Vertex('E')\n",
        "F = Vertex('F')\n",
        "\n",
        "AB = Edge(A, B, 2)\n",
        "AC = Edge(A, C, 4)\n",
        "BD = Edge(B, D, 5)\n",
        "CD = Edge(C, D, 9)\n",
        "CE = Edge(C, E, 3)\n",
        "DF = Edge(D, F, 2)\n",
        "EF = Edge(E, F, 2)\n",
        "\n",
        "adj_map = {\n",
        "    A: [B, C],\n",
        "    B: [A, D],\n",
        "    C: [A, D, E],\n",
        "    D: [B, C, F],\n",
        "    E: [C, F],\n",
        "    F: [D, E]\n",
        "}\n",
        "g = Graph(adj_map)\n",
        "result = BFS(g, A)\n",
        "\n",
        "result_str = '{'\n",
        "for vertex, parent in result.items():\n",
        "    vertex_repr = f'<Vertex: {vertex}>'\n",
        "    parent_repr = f'<Vertex: {parent}>' if parent else None\n",
        "    result_str += f'{vertex_repr}: {parent_repr}, '\n",
        "\n",
        "if len(result_str) > 1:\n",
        "    result_str = result_str[:-2]\n",
        "\n",
        "result_str += '}'\n",
        "print(result_str)"
      ],
      "metadata": {
        "colab": {
          "base_uri": "https://localhost:8080/"
        },
        "id": "wr4fljc0RFri",
        "outputId": "4e54a466-fe46-40e8-94df-21139c814ac1"
      },
      "execution_count": 2,
      "outputs": [
        {
          "output_type": "stream",
          "name": "stdout",
          "text": [
            "{<Vertex: A>: None, <Vertex: B>: <Vertex: A>, <Vertex: C>: <Vertex: A>, <Vertex: D>: <Vertex: B>, <Vertex: E>: <Vertex: C>, <Vertex: F>: <Vertex: D>}\n"
          ]
        }
      ]
    }
  ]
}